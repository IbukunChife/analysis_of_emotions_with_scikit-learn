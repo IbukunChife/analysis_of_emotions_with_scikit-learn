{
 "cells": [
  {
   "cell_type": "code",
   "execution_count": 9,
   "metadata": {},
   "outputs": [],
   "source": [
    "import cv2\n",
    "import glob\n",
    "import random\n",
    "import numpy as np\n",
    "from scipy.stats import randint as sp_randint\n",
    "from sklearn.metrics import accuracy_score\n",
    "from sklearn.metrics import confusion_matrix\n",
    "from sklearn.model_selection import RandomizedSearchCV\n",
    "from sklearn.metrics import classification_report\n",
    "from sklearn.ensemble import GradientBoostingClassifier"
   ]
  },
  {
   "cell_type": "code",
   "execution_count": 10,
   "metadata": {},
   "outputs": [],
   "source": [
    "metascore = []"
   ]
  },
  {
   "cell_type": "code",
   "execution_count": 22,
   "metadata": {},
   "outputs": [],
   "source": [
    "emotions = [\"neutral\", \"anger\", \"contempt\", \"disgust\", \"fear\", \"happy\", \"sadness\", \"surprise\"]\n",
    "#emotions = [\"happy\", \"surprise\"]"
   ]
  },
  {
   "cell_type": "code",
   "execution_count": 28,
   "metadata": {},
   "outputs": [],
   "source": [
    "clf = GradientBoostingClassifier(criterion='mae',\n",
    "                                 max_depth=3,\n",
    "                                 max_features=73,\n",
    "                                 min_samples_leaf=5,\n",
    "                                 min_samples_split=13,\n",
    "                                 n_estimators=200\n",
    "                                )"
   ]
  },
  {
   "cell_type": "code",
   "execution_count": 29,
   "metadata": {},
   "outputs": [],
   "source": [
    "def get_files(emotion):\n",
    "    files = glob.glob(\"base\\dataset\\\\{}\\\\*\".format(emotion))\n",
    "    random.shuffle(files)\n",
    "    training = files[:int(len(files) * 0.8)]\n",
    "    test = files[-int(len(files) * 0.2):]\n",
    "    return training, test"
   ]
  },
  {
   "cell_type": "code",
   "execution_count": 30,
   "metadata": {},
   "outputs": [],
   "source": [
    "def make_sets():\n",
    "    training_X = []\n",
    "    training_y = []\n",
    "    test_X = []\n",
    "    test_y = []\n",
    "\n",
    "    for emotion in emotions:\n",
    "\n",
    "        training, test = get_files(emotion)\n",
    "\n",
    "        for item in training:\n",
    "            image = cv2.imread(item)\n",
    "            gray = cv2.cvtColor(image, cv2.COLOR_BGR2GRAY)\n",
    "            training_X.append(gray)\n",
    "            training_y.append(emotions.index(emotion))\n",
    "\n",
    "        for item in test:\n",
    "            image = cv2.imread(item)\n",
    "            gray = cv2.cvtColor(image, cv2.COLOR_BGR2GRAY)\n",
    "            test_X.append(gray)\n",
    "            test_y.append(emotions.index(emotion))\n",
    "\n",
    "    training_X = np.array(training_X)\n",
    "    training_y = np.array(training_y)\n",
    "    test_X = np.array(test_X)\n",
    "    test_y = np.array(test_y)\n",
    "\n",
    "    return training_X, training_y, test_X, test_y"
   ]
  },
  {
   "cell_type": "code",
   "execution_count": 31,
   "metadata": {},
   "outputs": [],
   "source": [
    "training_X, training_y, test_X, test_y = make_sets()\n",
    "\n",
    "training_X = training_X.reshape(training_X.shape[0], 350 * 350)\n",
    "test_X = test_X.reshape(test_X.shape[0], 350 * 350)"
   ]
  },
  {
   "cell_type": "code",
   "execution_count": 32,
   "metadata": {},
   "outputs": [
    {
     "name": "stdout",
     "output_type": "stream",
     "text": [
      "\u001b[1m Score: \u001b[1;34m 74.72727272727273 \n",
      "\u001b[0m\n",
      "\u001b[1m Margin of Erro: \u001b[1;34m 0.9928059664216312 \n",
      "\u001b[0m\n"
     ]
    }
   ],
   "source": [
    "for i in range(0, 10):\n",
    "    clf = clf.fit(training_X, training_y)\n",
    "    predict = clf.predict(test_X)\n",
    "    score = clf.score(test_X, test_y)\n",
    "    metascore.append(score)\n",
    "\n",
    "metascore = np.array(metascore)\n",
    "    \n",
    "print ('\\033[1m Score: ' + '\\033[1;34m {} \\n'.format(metascore.mean()*100) + '\\033[0m')\n",
    "print ('\\033[1m Margin of Erro: ' + '\\033[1;34m {} \\n'.format(metascore.std()*100) + '\\033[0m')\n",
    "\n",
    "metascore = []"
   ]
  },
  {
   "cell_type": "code",
   "execution_count": null,
   "metadata": {},
   "outputs": [],
   "source": [
    "cm = confusion_matrix(test_y, predict, labels=[0, 1, 2, 3, 4, 5, 6, 7])\n",
    "#cm = confusion_matrix(test_y, predict)\n",
    "\n",
    "print('\\033[1m Matriz de confusao:\\n\\n' + '\\033[0m {} \\n'.format(cm))"
   ]
  },
  {
   "cell_type": "code",
   "execution_count": 13,
   "metadata": {},
   "outputs": [
    {
     "name": "stdout",
     "output_type": "stream",
     "text": [
      "\u001b[1m Best Score: \u001b[1;34m 0.6998087954110899\n",
      "\u001b[0m\n",
      "\u001b[1m Best Params:\n",
      "\n",
      "\u001b[0m {'criterion': 'mse', 'max_depth': 10, 'max_features': 9, 'min_samples_leaf': 20, 'min_samples_split': 10, 'n_estimators': 600}\n",
      "\n",
      "\u001b[1m Classification Report:\n",
      "\n",
      "\u001b[0m              precision    recall  f1-score   support\n",
      "\n",
      "          0       0.68      0.98      0.81        65\n",
      "          1       0.00      0.00      0.00         9\n",
      "          2       0.00      0.00      0.00         3\n",
      "          3       0.83      0.42      0.56        12\n",
      "          4       0.00      0.00      0.00         5\n",
      "          5       0.83      0.77      0.80        13\n",
      "          6       0.00      0.00      0.00         5\n",
      "          7       1.00      0.94      0.97        16\n",
      "\n",
      "avg / total       0.63      0.73      0.66       128\n",
      "\n"
     ]
    },
    {
     "name": "stderr",
     "output_type": "stream",
     "text": [
      "C:\\Users\\hermi\\Anaconda3\\lib\\site-packages\\sklearn\\metrics\\classification.py:1135: UndefinedMetricWarning: Precision and F-score are ill-defined and being set to 0.0 in labels with no predicted samples.\n",
      "  'precision', 'predicted', average, warn_for)\n"
     ]
    }
   ],
   "source": [
    "param_dist = {\"max_depth\" :  [10, 20, 30],\n",
    "               \"max_features\" : sp_randint(2, 10),\n",
    "               \"min_samples_split\" : sp_randint(8, 14),\n",
    "               \"min_samples_leaf\" : sp_randint(20, 28),\n",
    "               \"n_estimators\" : [400, 500, 600],\n",
    "               \"criterion\" : [\"mae\", \"mse\"]\n",
    "              }\n",
    "\n",
    "grid = RandomizedSearchCV(estimator=clf, param_distributions = param_dist, n_iter=100)\n",
    "grid.fit(training_X, training_y)\n",
    "\n",
    "y_true, y_pred = test_y, grid.predict(test_X)\n",
    "bs = grid.best_score_\n",
    "bp = grid.best_params_\n",
    "cr = classification_report(y_true, y_pred)\n",
    "\n",
    "print('\\033[1m Best Score: ' + '\\033[1;34m {}\\n'.format(bs) + '\\033[0m')\n",
    "print('\\033[1m Best Params:\\n\\n' + '\\033[0m {}\\n'.format(bp))\n",
    "print('\\033[1m Classification Report:\\n\\n' + '\\033[0m {}'.format(cr))"
   ]
  },
  {
   "cell_type": "code",
   "execution_count": null,
   "metadata": {},
   "outputs": [],
   "source": [
    "accuracy = accuracy_score(predict, test_y)\n",
    "    \n",
    "print(\"\\n\\033[1m Acuracy: \\033[1;34m %1.2f%% \\033[0m\" % accuracy)"
   ]
  },
  {
   "cell_type": "code",
   "execution_count": null,
   "metadata": {},
   "outputs": [],
   "source": []
  }
 ],
 "metadata": {
  "kernelspec": {
   "display_name": "Python 3",
   "language": "python",
   "name": "python3"
  }
 },
 "nbformat": 4,
 "nbformat_minor": 1
}
