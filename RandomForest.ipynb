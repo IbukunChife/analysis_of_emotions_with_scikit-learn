{
 "cells": [
  {
   "cell_type": "code",
   "execution_count": 18,
   "metadata": {},
   "outputs": [],
   "source": [
    "import cv2\n",
    "import glob\n",
    "import random\n",
    "import numpy as np\n",
    "from sklearn.metrics import accuracy_score\n",
    "from sklearn.metrics import confusion_matrix\n",
    "from scipy.stats import randint as sp_randintb\n",
    "from sklearn.model_selection import GridSearchCV\n",
    "from sklearn.metrics import classification_report\n",
    "from sklearn.ensemble import RandomForestClassifier\n",
    "from sklearn.model_selection import RandomizedSearchCV"
   ]
  },
  {
   "cell_type": "code",
   "execution_count": 19,
   "metadata": {},
   "outputs": [],
   "source": [
    "metascore = []"
   ]
  },
  {
   "cell_type": "code",
   "execution_count": 27,
   "metadata": {},
   "outputs": [],
   "source": [
    "emotions = [\"neutral\", \"anger\", \"contempt\", \"disgust\", \"fear\", \"happy\", \"sadness\", \"surprise\"]\n",
    "#emotions = [\"happy\", \"surprise\"]"
   ]
  },
  {
   "cell_type": "code",
   "execution_count": 28,
   "metadata": {},
   "outputs": [],
   "source": [
    "clf = RandomForestClassifier(n_estimators=600,\n",
    "                             min_samples_split=12,\n",
    "                             min_samples_leaf=5,\n",
    "                             max_features=15,\n",
    "                             max_depth=7,\n",
    "                             criterion='gini', \n",
    "                             bootstrap=False)"
   ]
  },
  {
   "cell_type": "code",
   "execution_count": 29,
   "metadata": {},
   "outputs": [],
   "source": [
    "def get_files(emotion):\n",
    "    files = glob.glob(\"base1\\dataset\\\\{}\\\\*\".format(emotion))\n",
    "    random.shuffle(files)\n",
    "    training = files[:int(len(files) * 0.7)]\n",
    "    test = files[-int(len(files) * 0.3):]\n",
    "    return training, test"
   ]
  },
  {
   "cell_type": "code",
   "execution_count": 30,
   "metadata": {},
   "outputs": [],
   "source": [
    "def make_sets():\n",
    "    training_X = []\n",
    "    training_y = []\n",
    "    test_X = []\n",
    "    test_y = []\n",
    "\n",
    "    for emotion in emotions:\n",
    "\n",
    "        training, test = get_files(emotion)\n",
    "\n",
    "        for item in training:\n",
    "            image = cv2.imread(item)\n",
    "            gray = cv2.cvtColor(image, cv2.COLOR_BGR2GRAY)\n",
    "            training_X.append(gray)\n",
    "            training_y.append(emotions.index(emotion))\n",
    "\n",
    "        for item in test:\n",
    "            image = cv2.imread(item)\n",
    "            gray = cv2.cvtColor(image, cv2.COLOR_BGR2GRAY)\n",
    "            test_X.append(gray)\n",
    "            test_y.append(emotions.index(emotion))\n",
    "\n",
    "    training_X = np.array(training_X)\n",
    "    training_y = np.array(training_y)\n",
    "    test_X = np.array(test_X)\n",
    "    test_y = np.array(test_y)\n",
    "\n",
    "    return training_X, training_y, test_X, test_y"
   ]
  },
  {
   "cell_type": "code",
   "execution_count": 31,
   "metadata": {},
   "outputs": [],
   "source": [
    "training_X, training_y, test_X, test_y = make_sets()\n",
    "\n",
    "training_X = training_X.reshape(training_X.shape[0], 350 * 350)\n",
    "test_X = test_X.reshape(test_X.shape[0], 350 * 350)"
   ]
  },
  {
   "cell_type": "code",
   "execution_count": 32,
   "metadata": {},
   "outputs": [
    {
     "name": "stdout",
     "output_type": "stream",
     "text": [
      "\u001b[1m Score: \u001b[1;34m 68.34196891191709 \n",
      "\u001b[0m\n",
      "\u001b[1m Margin of Erro: \u001b[1;34m 0.43039501880404685 \n",
      "\u001b[0m\n"
     ]
    }
   ],
   "source": [
    "for i in range(0, 10):\n",
    "    clf = clf.fit(training_X, training_y)\n",
    "    predict = clf.predict(test_X)\n",
    "    score = clf.score(test_X, test_y)\n",
    "    metascore.append(score)\n",
    "\n",
    "metascore = np.array(metascore)\n",
    "    \n",
    "print ('\\033[1m Score: ' + '\\033[1;34m {} \\n'.format(metascore.mean()*100) + '\\033[0m')\n",
    "print ('\\033[1m Margin of Erro: ' + '\\033[1;34m {} \\n'.format(metascore.std()*100) + '\\033[0m')\n",
    "\n",
    "metascore = []"
   ]
  },
  {
   "cell_type": "code",
   "execution_count": 33,
   "metadata": {},
   "outputs": [
    {
     "name": "stdout",
     "output_type": "stream",
     "text": [
      "\u001b[1m Matriz de confusao:\n",
      "\n",
      "\u001b[0m [[98  0  0  0  0  0  0  0]\n",
      " [13  0  0  0  0  0  0  0]\n",
      " [ 5  0  0  0  0  0  0  0]\n",
      " [16  0  0  1  0  1  0  0]\n",
      " [ 7  0  0  0  0  0  0  0]\n",
      " [ 7  0  0  0  0 13  0  0]\n",
      " [ 8  0  0  0  0  0  0  0]\n",
      " [ 3  0  0  0  0  0  0 21]] \n",
      "\n"
     ]
    }
   ],
   "source": [
    "cm = confusion_matrix(test_y, predict, labels=[0, 1, 2, 3, 4, 5, 6, 7])\n",
    "#cm = confusion_matrix(test_y, predict)\n",
    "\n",
    "print('\\033[1m Matriz de confusao:\\n\\n' + '\\033[0m {} \\n'.format(cm))"
   ]
  },
  {
   "cell_type": "code",
   "execution_count": 84,
   "metadata": {},
   "outputs": [
    {
     "name": "stdout",
     "output_type": "stream",
     "text": [
      "\u001b[1m Best Score: \u001b[1;34m 0.6842105263157895\n",
      "\u001b[0m\n",
      "\u001b[1m Best Params:\n",
      "\n",
      "\u001b[0m {'n_estimators': 1000, 'min_samples_split': 16, 'min_samples_leaf': 5, 'max_features': 30, 'max_depth': 30, 'criterion': 'gini', 'bootstrap': False}\n",
      "\n",
      "\u001b[1m Classification Report:\n",
      "\n",
      "\u001b[0m              precision    recall  f1-score   support\n",
      "\n",
      "          0       0.64      1.00      0.78        98\n",
      "          1       0.00      0.00      0.00        13\n",
      "          2       0.00      0.00      0.00         5\n",
      "          3       1.00      0.22      0.36        18\n",
      "          4       0.00      0.00      0.00         7\n",
      "          5       0.94      0.85      0.89        20\n",
      "          6       0.00      0.00      0.00         8\n",
      "          7       1.00      0.71      0.83        24\n",
      "\n",
      "avg / total       0.64      0.70      0.62       193\n",
      "\n"
     ]
    },
    {
     "name": "stderr",
     "output_type": "stream",
     "text": [
      "C:\\Users\\hermi\\Anaconda3\\lib\\site-packages\\sklearn\\metrics\\classification.py:1135: UndefinedMetricWarning: Precision and F-score are ill-defined and being set to 0.0 in labels with no predicted samples.\n",
      "  'precision', 'predicted', average, warn_for)\n"
     ]
    }
   ],
   "source": [
    "param_dist = {\"max_depth\" :  [30, 40, 50],\n",
    "                  \"max_features\" : [15, 20, 25, 30],\n",
    "                  \"min_samples_split\" : [12, 16, 18, 20],\n",
    "                  \"min_samples_leaf\" : [5, 8, 12],\n",
    "                  \"n_estimators\" : [600, 800, 1200],\n",
    "                  \"bootstrap\" : [True, False],\n",
    "                  \"criterion\" : [\"gini\", \"entropy\"]\n",
    "                  }\n",
    "\n",
    "grid = RandomizedSearchCV(estimator=clf, param_distributions = param_dist, n_iter=100, n_jobs=-1)\n",
    "grid.fit(training_X, training_y)\n",
    "\n",
    "y_true, y_pred = test_y, grid.predict(test_X)\n",
    "\n",
    "bs = grid.best_score_\n",
    "bp = grid.best_params_\n",
    "cr = classification_report(y_true, y_pred)\n",
    "\n",
    "print('\\033[1m Best Score: ' + '\\033[1;34m {}\\n'.format(bs) + '\\033[0m')\n",
    "print('\\033[1m Best Params:\\n\\n' + '\\033[0m {}\\n'.format(bp))\n",
    "print('\\033[1m Classification Report:\\n\\n' + '\\033[0m {}'.format(cr))"
   ]
  },
  {
   "cell_type": "code",
   "execution_count": null,
   "metadata": {},
   "outputs": [],
   "source": [
    "param_grid = {'n_estimators': [200, 500, 700],\n",
    "              'max_features': ['auto', 'sqrt', 'log2'],\n",
    "              'max_depth': [4, 5, 6, 7, 8],\n",
    "              'criterion': ['gini', 'entropy'],\n",
    "              'min_samples_split': [10, 20, 30, 40, 50]\n",
    "             }\n",
    "\n",
    "grid = GridSearchCV(estimator=clf, param_grid=param_grid, cv=5)\n",
    "grid.fit(training_X, training_y)\n",
    "\n",
    "y_true, y_pred = test_y, grid.predict(test_X)\n",
    "\n",
    "bs = grid.best_score_\n",
    "bp = grid.best_params_\n",
    "cr = classification_report(y_true, y_pred)\n",
    "\n",
    "print('\\033[1m Best Score: ' + '\\033[1;34m {}\\n'.format(bs) + '\\033[0m')\n",
    "print('\\033[1m Best Params:\\n\\n' + '\\033[0m {}\\n'.format(bp))\n",
    "print('\\033[1m Classification Report:\\n\\n' + '\\033[0m {}'.format(cr))"
   ]
  },
  {
   "cell_type": "code",
   "execution_count": 83,
   "metadata": {},
   "outputs": [
    {
     "name": "stdout",
     "output_type": "stream",
     "text": [
      "Accuracy: 0.6787564766839378\n"
     ]
    }
   ],
   "source": [
    "accuracy = accuracy_score(predict, test_y)\n",
    "\n",
    "print(\"\\n\\033[1m Acuracy: \\033[1;34m %1.2f%% \\033[0m\" % accuracy)"
   ]
  },
  {
   "cell_type": "code",
   "execution_count": null,
   "metadata": {},
   "outputs": [],
   "source": []
  }
 ],
 "metadata": {
  "kernelspec": {
   "display_name": "Python 3",
   "language": "python",
   "name": "python3"
  },
  "language_info": {
   "codemirror_mode": {
    "name": "ipython",
    "version": 3
   },
   "file_extension": ".py",
   "mimetype": "text/x-python",
   "name": "python",
   "nbconvert_exporter": "python",
   "pygments_lexer": "ipython3",
   "version": "3.6.3"
  }
 },
 "nbformat": 4,
 "nbformat_minor": 1
}
