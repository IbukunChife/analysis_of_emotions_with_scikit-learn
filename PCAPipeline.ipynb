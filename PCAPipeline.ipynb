{
 "cells": [
  {
   "cell_type": "code",
   "execution_count": 24,
   "metadata": {},
   "outputs": [],
   "source": [
    "import cv2\n",
    "import glob\n",
    "import random\n",
    "import numpy as np\n",
    "from sklearn.decomposition import PCA\n",
    "from sklearn.pipeline import make_pipeline\n",
    "from sklearn.metrics import accuracy_score\n",
    "from sklearn.metrics import confusion_matrix\n",
    "from scipy.stats import randint as sp_randint\n",
    "from sklearn.metrics import classification_report\n",
    "from sklearn.ensemble import RandomForestClassifier\n",
    "from sklearn.model_selection import RandomizedSearchCV"
   ]
  },
  {
   "cell_type": "code",
   "execution_count": 25,
   "metadata": {},
   "outputs": [],
   "source": [
    "metascore = []"
   ]
  },
  {
   "cell_type": "code",
   "execution_count": 32,
   "metadata": {},
   "outputs": [],
   "source": [
    "emotions = [\"neutral\", \"anger\", \"contempt\", \"disgust\", \"fear\", \"happy\", \"sadness\", \"surprise\"]\n",
    "#emotions = [\"happy\", \"surprise\"]"
   ]
  },
  {
   "cell_type": "code",
   "execution_count": 33,
   "metadata": {},
   "outputs": [],
   "source": [
    "clf = make_pipeline(PCA(n_components=800,\n",
    "                        svd_solver='full',\n",
    "                        ),\n",
    "                    RandomForestClassifier(n_jobs=-1, \n",
    "                                           n_estimators=400,\n",
    "                                           max_features=0.5, \n",
    "                                           max_depth=6,\n",
    "                                           criterion='entropy', \n",
    "                                           bootstrap=False,\n",
    "                                          )\n",
    "                    )"
   ]
  },
  {
   "cell_type": "code",
   "execution_count": 34,
   "metadata": {},
   "outputs": [],
   "source": [
    "def get_files(emotion):\n",
    "    files = glob.glob(\"base1\\dataset\\\\{}\\\\*\".format(emotion))\n",
    "    random.shuffle(files)\n",
    "    training = files[:int(len(files) * 0.7)]\n",
    "    test = files[-int(len(files) * 0.3):]\n",
    "    return training, test"
   ]
  },
  {
   "cell_type": "code",
   "execution_count": 35,
   "metadata": {},
   "outputs": [],
   "source": [
    "def make_sets():\n",
    "    training_X = []\n",
    "    training_y = []\n",
    "    test_X = []\n",
    "    test_y = []\n",
    "\n",
    "    for emotion in emotions:\n",
    "\n",
    "        training, test = get_files(emotion)\n",
    "\n",
    "        for item in training:\n",
    "            image = cv2.imread(item)\n",
    "            gray = cv2.cvtColor(image, cv2.COLOR_BGR2GRAY)\n",
    "            training_X.append(gray)\n",
    "            training_y.append(emotions.index(emotion))\n",
    "\n",
    "        for item in test:\n",
    "            image = cv2.imread(item)\n",
    "            gray = cv2.cvtColor(image, cv2.COLOR_BGR2GRAY)\n",
    "            test_X.append(gray)\n",
    "            test_y.append(emotions.index(emotion))\n",
    "\n",
    "    training_X = np.array(training_X)\n",
    "    training_y = np.array(training_y)\n",
    "    test_X = np.array(test_X)\n",
    "    test_y = np.array(test_y)\n",
    "\n",
    "    return training_X, training_y, test_X, test_y"
   ]
  },
  {
   "cell_type": "code",
   "execution_count": 36,
   "metadata": {},
   "outputs": [],
   "source": [
    "training_X, training_y, test_X, test_y = make_sets()\n",
    "\n",
    "training_X = training_X.reshape(training_X.shape[0], 350 * 350)\n",
    "test_X = test_X.reshape(test_X.shape[0], 350 * 350)"
   ]
  },
  {
   "cell_type": "code",
   "execution_count": null,
   "metadata": {},
   "outputs": [],
   "source": [
    "for i in range(0, 10):\n",
    "    \n",
    "    clf = clf.fit(training_X, training_y)\n",
    "    predict = clf.predict(test_X)\n",
    "    score = clf.score(test_X, test_y)\n",
    "    metascore.append(score)\n",
    "    \n",
    "metascore = np.array(metascore)\n",
    "\n",
    "print ('\\033[1m Score: ' + '\\033[1;34m {} \\n'.format(metascore.mean()*100) + '\\033[0m')\n",
    "print ('\\033[1m Margin of Erro: ' + '\\033[1;34m {} \\n'.format(metascore.std()*100) + '\\033[0m')\n",
    "\n",
    "metascore = []"
   ]
  },
  {
   "cell_type": "code",
   "execution_count": 17,
   "metadata": {},
   "outputs": [
    {
     "name": "stdout",
     "output_type": "stream",
     "text": [
      "\u001b[1m Matriz de confusao:\n",
      "\n",
      "\u001b[0m [[286   0   0   0   0   1   0   2]\n",
      " [ 39   0   0   0   0   0   0   0]\n",
      " [ 14   0   0   0   0   1   0   0]\n",
      " [ 52   0   0   0   0   1   0   0]\n",
      " [ 20   0   0   0   0   1   0   0]\n",
      " [ 29   0   0   0   0  32   0   0]\n",
      " [ 30   0   0   0   0   0   2   0]\n",
      " [ 43   0   0   0   0   0   0  25]] \n",
      "\n"
     ]
    }
   ],
   "source": [
    "cm = confusion_matrix(test_y, predict, labels=[0, 1, 2, 3, 4, 5, 6, 7])\n",
    "\n",
    "print('\\033[1m Matriz de confusao:\\n\\n' + '\\033[0m {} \\n'.format(cm))"
   ]
  },
  {
   "cell_type": "code",
   "execution_count": 9,
   "metadata": {},
   "outputs": [
    {
     "name": "stdout",
     "output_type": "stream",
     "text": [
      "\u001b[1m Best Score: \u001b[1;34m 0.6557017543859649\n",
      "\u001b[0m\n",
      "\u001b[1m Best Params:\n",
      "\n",
      "\u001b[0m {'randomforestclassifier__n_jobs': -1, 'randomforestclassifier__n_estimators': 400, 'randomforestclassifier__max_features': 0.5, 'randomforestclassifier__max_depth': 6, 'randomforestclassifier__criterion': 'entropy', 'randomforestclassifier__bootstrap': False, 'pca__svd_solver': 'full', 'pca__n_components': 700}\n",
      "\n",
      "\u001b[1m Classification Report:\n",
      "\n",
      "\u001b[0m              precision    recall  f1-score   support\n",
      "\n",
      "          0       0.59      0.98      0.74        98\n",
      "          1       0.00      0.00      0.00        13\n",
      "          2       0.00      0.00      0.00         5\n",
      "          3       0.00      0.00      0.00        18\n",
      "          4       0.00      0.00      0.00         7\n",
      "          5       0.82      0.70      0.76        20\n",
      "          6       0.00      0.00      0.00         8\n",
      "          7       1.00      0.54      0.70        24\n",
      "\n",
      "avg / total       0.51      0.64      0.54       193\n",
      "\n"
     ]
    },
    {
     "name": "stderr",
     "output_type": "stream",
     "text": [
      "C:\\Users\\hermi\\Anaconda3\\lib\\site-packages\\sklearn\\metrics\\classification.py:1135: UndefinedMetricWarning: Precision and F-score are ill-defined and being set to 0.0 in labels with no predicted samples.\n",
      "  'precision', 'predicted', average, warn_for)\n"
     ]
    }
   ],
   "source": [
    "param_dist = {\"randomforestclassifier__max_depth\": [5, 6, 7],\n",
    "                  \"randomforestclassifier__max_features\": [.5, .75, 1. ],\n",
    "                  \"randomforestclassifier__n_estimators\": [400, 500, 600],\n",
    "                  \"randomforestclassifier__bootstrap\" :  [True, False],\n",
    "                  \"randomforestclassifier__n_jobs\" : [-1],\n",
    "                  \"randomforestclassifier__criterion\": [\"gini\", \"entropy\"],\n",
    "                  \"pca__svd_solver\" : [\"full\"],\n",
    "                  \"pca__n_components\" : [500, 700]\n",
    "                  }\n",
    "\n",
    "grid = RandomizedSearchCV(estimator=clf, param_distributions=param_dist, n_iter=100)\n",
    "grid.fit(training_X, training_y)\n",
    "\n",
    "y_true, y_pred = test_y, grid.predict(test_X)\n",
    "\n",
    "bs = grid.best_score_\n",
    "bp = grid.best_params_\n",
    "cr = classification_report(y_true, y_pred)\n",
    "\n",
    "print('\\033[1m Best Score: ' + '\\033[1;34m {}\\n'.format(bs) + '\\033[0m')\n",
    "print('\\033[1m Best Params:\\n\\n' + '\\033[0m {}\\n'.format(bp))\n",
    "print('\\033[1m Classification Report:\\n\\n' + '\\033[0m {}'.format(cr))"
   ]
  },
  {
   "cell_type": "code",
   "execution_count": 20,
   "metadata": {},
   "outputs": [
    {
     "name": "stdout",
     "output_type": "stream",
     "text": [
      "\n",
      "\u001b[1m Acuracy: \u001b[1;34m 66.32% \u001b[0m\n"
     ]
    }
   ],
   "source": [
    "accuracy = accuracy_score(predict, test_y)\n",
    "    \n",
    "print(\"\\n\\033[1m Acuracy: \\033[1;34m %1.2f%% \\033[0m\" % (accuracy*100))"
   ]
  },
  {
   "cell_type": "code",
   "execution_count": null,
   "metadata": {},
   "outputs": [],
   "source": []
  }
 ],
 "metadata": {
  "kernelspec": {
   "display_name": "Python 3",
   "language": "python",
   "name": "python3"
  },
  "language_info": {
   "codemirror_mode": {
    "name": "ipython",
    "version": 3
   },
   "file_extension": ".py",
   "mimetype": "text/x-python",
   "name": "python",
   "nbconvert_exporter": "python",
   "pygments_lexer": "ipython3",
   "version": "3.6.3"
  }
 },
 "nbformat": 4,
 "nbformat_minor": 1
}
